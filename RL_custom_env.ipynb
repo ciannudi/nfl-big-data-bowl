{
 "cells": [
  {
   "cell_type": "code",
   "execution_count": 1,
   "id": "098de29d-4aa3-4113-8c73-645dfe6d3733",
   "metadata": {},
   "outputs": [
    {
     "name": "stderr",
     "output_type": "stream",
     "text": [
      "2022-11-13 19:49:23.784840: I tensorflow/core/platform/cpu_feature_guard.cc:193] This TensorFlow binary is optimized with oneAPI Deep Neural Network Library (oneDNN) to use the following CPU instructions in performance-critical operations:  AVX2 FMA\n",
      "To enable them in other operations, rebuild TensorFlow with the appropriate compiler flags.\n"
     ]
    }
   ],
   "source": [
    "import pandas as pd\n",
    "import os\n",
    "import numpy as np\n",
    "\n",
    "from gym import Env\n",
    "from gym.spaces import Discrete, Box\n",
    "import random\n",
    "\n",
    "from tensorflow.keras.models import Sequential\n",
    "from tensorflow.keras.layers import Dense, Flatten, Dropout\n",
    "from tensorflow.keras.optimizers import Adam\n",
    "\n",
    "from rl.agents import DQNAgent\n",
    "from rl.policy import BoltzmannQPolicy\n",
    "from rl.memory import SequentialMemory\n",
    "pd.options.display.max_columns= 200\n"
   ]
  },
  {
   "cell_type": "code",
   "execution_count": 2,
   "id": "3e0e5732-d31c-434d-9288-589f3425a240",
   "metadata": {},
   "outputs": [
    {
     "data": {
      "text/plain": [
       "['.ipynb_checkpoints',\n",
       " 'NFLBirthdays.csv',\n",
       " 'RL_test_data.csv',\n",
       " 'games.csv',\n",
       " 'pffScoutingData.csv',\n",
       " 'players.csv',\n",
       " 'plays.csv',\n",
       " 'processed',\n",
       " 'raw',\n",
       " 'train.csv',\n",
       " 'week1.csv',\n",
       " 'week2.csv',\n",
       " 'week3.csv',\n",
       " 'week4.csv',\n",
       " 'week5.csv',\n",
       " 'week6.csv',\n",
       " 'week7.csv',\n",
       " 'week8.csv']"
      ]
     },
     "execution_count": 2,
     "metadata": {},
     "output_type": "execute_result"
    }
   ],
   "source": [
    "data_files = os.listdir('data')\n",
    "data_files.sort()\n",
    "data_files"
   ]
  },
  {
   "cell_type": "code",
   "execution_count": 3,
   "id": "b4cb173d-239e-4eae-995d-a4016f166291",
   "metadata": {},
   "outputs": [
    {
     "name": "stderr",
     "output_type": "stream",
     "text": [
      "/var/folders/s7/3dcc3pkd0kb7tgrb1sc5zlzh0000gn/T/ipykernel_5582/377191410.py:9: FutureWarning: The error_bad_lines argument has been deprecated and will be removed in a future version. Use on_bad_lines in the future.\n",
      "\n",
      "\n",
      "  d = pd.read_csv(f\"./data/{file_name}\", engine='python', error_bad_lines=False)\n",
      "/var/folders/s7/3dcc3pkd0kb7tgrb1sc5zlzh0000gn/T/ipykernel_5582/377191410.py:9: FutureWarning: The error_bad_lines argument has been deprecated and will be removed in a future version. Use on_bad_lines in the future.\n",
      "\n",
      "\n",
      "  d = pd.read_csv(f\"./data/{file_name}\", engine='python', error_bad_lines=False)\n",
      "Skipping line 1093237: unexpected end of data\n",
      "/var/folders/s7/3dcc3pkd0kb7tgrb1sc5zlzh0000gn/T/ipykernel_5582/377191410.py:9: FutureWarning: The error_bad_lines argument has been deprecated and will be removed in a future version. Use on_bad_lines in the future.\n",
      "\n",
      "\n",
      "  d = pd.read_csv(f\"./data/{file_name}\", engine='python', error_bad_lines=False)\n",
      "Skipping line 908085: unexpected end of data\n",
      "/var/folders/s7/3dcc3pkd0kb7tgrb1sc5zlzh0000gn/T/ipykernel_5582/377191410.py:9: FutureWarning: The error_bad_lines argument has been deprecated and will be removed in a future version. Use on_bad_lines in the future.\n",
      "\n",
      "\n",
      "  d = pd.read_csv(f\"./data/{file_name}\", engine='python', error_bad_lines=False)\n",
      "/var/folders/s7/3dcc3pkd0kb7tgrb1sc5zlzh0000gn/T/ipykernel_5582/377191410.py:9: FutureWarning: The error_bad_lines argument has been deprecated and will be removed in a future version. Use on_bad_lines in the future.\n",
      "\n",
      "\n",
      "  d = pd.read_csv(f\"./data/{file_name}\", engine='python', error_bad_lines=False)\n",
      "Skipping line 807999: unexpected end of data\n",
      "/var/folders/s7/3dcc3pkd0kb7tgrb1sc5zlzh0000gn/T/ipykernel_5582/377191410.py:9: FutureWarning: The error_bad_lines argument has been deprecated and will be removed in a future version. Use on_bad_lines in the future.\n",
      "\n",
      "\n",
      "  d = pd.read_csv(f\"./data/{file_name}\", engine='python', error_bad_lines=False)\n",
      "Skipping line 744197: unexpected end of data\n",
      "/var/folders/s7/3dcc3pkd0kb7tgrb1sc5zlzh0000gn/T/ipykernel_5582/377191410.py:9: FutureWarning: The error_bad_lines argument has been deprecated and will be removed in a future version. Use on_bad_lines in the future.\n",
      "\n",
      "\n",
      "  d = pd.read_csv(f\"./data/{file_name}\", engine='python', error_bad_lines=False)\n"
     ]
    }
   ],
   "source": [
    "games_df = pd.read_csv('./data/games.csv') # this file contains the schedule of games_df\n",
    "plays_df = pd.read_csv('./data/RL_test_data.csv', index_col=0) # this file tells us about each play in each game\n",
    "weeks_df = pd.read_csv('./data/week1.csv') # this file contains player tracking data\n",
    "\n",
    "for file_name in data_files:\n",
    "    \n",
    "    if 'week' in file_name and file_name != 'week1.csv':\n",
    "    \n",
    "        d = pd.read_csv(f\"./data/{file_name}\", engine='python', error_bad_lines=False)\n",
    "\n",
    "        weeks_df = pd.concat([d,weeks_df])\n",
    "\n"
   ]
  },
  {
   "cell_type": "code",
   "execution_count": 4,
   "id": "12cbdfe0-9ba7-4bc4-b61e-b3727ffbeb5d",
   "metadata": {},
   "outputs": [],
   "source": [
    "class footballEnv(Env):\n",
    "    def __init__(self, df):\n",
    "        \n",
    "        # idx used to start on the first series\n",
    "        self.next_series = 0\n",
    "\n",
    "        # get an array of all available sereies\n",
    "        self.unique_series = df.series_id.unique()        \n",
    "\n",
    "        # measure number of series ids\n",
    "        self.total_series = self.unique_series.shape[0]-1\n",
    "                        \n",
    "        # store this series df \n",
    "        self.data_frame = df\n",
    "            \n",
    "        # actions to take: left, right, middle, deep\n",
    "        self.action_space = Discrete(4)\n",
    "                        \n",
    "        # length of field\n",
    "        self.observation_space = Box(low=-20, high=120, shape=(9,))\n",
    "                \n",
    "    def step(self, action):\n",
    "        info = {}\n",
    "        done=False\n",
    "        reward = 0\n",
    "        \n",
    "        if self.current_play == self.series_df_length:\n",
    "            done=True\n",
    "        else:\n",
    "            self.current_play += 1\n",
    "\n",
    "            df = self.series_df\n",
    "\n",
    "            play_in_series = df.loc[self.current_play]\n",
    "\n",
    "            yardage_gain = play_in_series.prePenaltyPlayResult\n",
    "\n",
    "            self.state = play_in_series.absoluteYardlineNumber\n",
    "            self.quarter = play_in_series.quarter\n",
    "            self.down = play_in_series.down\n",
    "            self.yards_to_go = play_in_series.yardsToGo\n",
    "            self.play_direction_right = play_in_series.play_direction_is_right\n",
    "            self.home_team_score = play_in_series.preSnapHomeScore\n",
    "            self.visitor_team_score = play_in_series.preSnapVisitorScore\n",
    "            self.game_clock_seconds = play_in_series.game_clock_seconds\n",
    "                        \n",
    "            # should be using yardage gain proportional to field size\n",
    "            reward = yardage_gain                        \n",
    "                \n",
    "        return np.array([self.state, self.quarter, self.down, self.yards_to_go, self.play_direction_right, self.home_team_score, self.visitor_team_score, self.game_clock_seconds, self.current_play]), reward, done, info \n",
    "            \n",
    "    def render(self):\n",
    "        pass\n",
    "        \n",
    "    def reset(self):#, plays_remaining):        \n",
    "        \n",
    "        # get first series_id\n",
    "        unique_series = self.unique_series\n",
    "\n",
    "        # get first series_id\n",
    "        series_id = unique_series[self.next_series]\n",
    "        \n",
    "        self.next_series = random.randint(1,self.total_series)\n",
    "        \n",
    "        df = self.data_frame\n",
    "        # measure number of plays in this series\n",
    "        self.n_plays_in_series = df.shape[0]-1\n",
    "        \n",
    "        # get all data for current series\n",
    "        df = df[df.series_id==series_id].reset_index()\n",
    "            \n",
    "        self.series_df = df\n",
    "        self.series_df_length = df.shape[0]-1\n",
    "                \n",
    "        self.current_play = 0\n",
    "        self.state = df.absoluteYardlineNumber[self.current_play]\n",
    "        self.quarter = df.quarter[self.current_play]\n",
    "        self.down = df.down[self.current_play]\n",
    "        self.yards_to_go = df.yardsToGo[self.current_play]\n",
    "        self.play_direction_right = df.play_direction_is_right[self.current_play]\n",
    "        self.home_team_score = df.preSnapHomeScore[self.current_play]\n",
    "        self.visitor_team_score = df.preSnapVisitorScore[self.current_play]\n",
    "        self.game_clock_seconds = df.game_clock_seconds[self.current_play]\n",
    "\n",
    "        return np.array([self.state, self.quarter, self.down, self.yards_to_go, self.play_direction_right, self.home_team_score, self.visitor_team_score, self.game_clock_seconds, self.current_play])\n",
    "    "
   ]
  },
  {
   "cell_type": "code",
   "execution_count": 5,
   "id": "fbe5c393-7fbe-482c-af87-a293a36cb24c",
   "metadata": {},
   "outputs": [],
   "source": [
    "env = footballEnv(plays_df)\n"
   ]
  },
  {
   "cell_type": "code",
   "execution_count": 6,
   "id": "21346a3f-74c0-4ebe-a6bc-eda5943bff2f",
   "metadata": {},
   "outputs": [
    {
     "data": {
      "text/plain": [
       "array([77.706184 , -4.3702993, 59.233276 , 17.967237 , -2.4887102,\n",
       "       26.309713 , 10.355825 , 13.045078 , -9.055427 ], dtype=float32)"
      ]
     },
     "execution_count": 6,
     "metadata": {},
     "output_type": "execute_result"
    }
   ],
   "source": [
    "env.observation_space.sample()\n"
   ]
  },
  {
   "cell_type": "code",
   "execution_count": 7,
   "id": "a75089de-d4cf-4a6c-bce5-52181a5b845f",
   "metadata": {},
   "outputs": [],
   "source": [
    "# # games_df we'll train on\n",
    "# episodes = plays_df.series_id.unique()\n",
    "\n",
    "# for episode in episodes:\n",
    "\n",
    "#     game = plays_df[plays_df.gameId==episode].sort_values(['quarter', 'down', 'game_clock_seconds'], ascending=[True, True, False])\n",
    "    \n",
    "#     game = game.reset_index()\n",
    "               \n",
    "#     state = env.reset()\n",
    "#     done = False\n",
    "#     score = 0 \n",
    "    \n",
    "#     while not done:\n",
    "#         #env.render()\n",
    "#         action = env.action_space.sample()\n",
    "#         n_state, reward, done, info = env.step(action)\n",
    "#         score+=reward\n",
    "#     print('Episode:{} Score:{}'.format(episode, score))"
   ]
  },
  {
   "cell_type": "code",
   "execution_count": 8,
   "id": "5b62beb1-fdf9-4429-882c-cdb534cf679d",
   "metadata": {},
   "outputs": [
    {
     "data": {
      "text/plain": [
       "(9,)"
      ]
     },
     "execution_count": 8,
     "metadata": {},
     "output_type": "execute_result"
    }
   ],
   "source": [
    "states = env.observation_space.shape\n",
    "states"
   ]
  },
  {
   "cell_type": "code",
   "execution_count": 9,
   "id": "9e1a8a31-d9dc-41f7-ac46-8d495ebdfe91",
   "metadata": {},
   "outputs": [
    {
     "data": {
      "text/plain": [
       "4"
      ]
     },
     "execution_count": 9,
     "metadata": {},
     "output_type": "execute_result"
    }
   ],
   "source": [
    "actions = env.action_space.n\n",
    "actions"
   ]
  },
  {
   "cell_type": "code",
   "execution_count": 10,
   "id": "9f3e3772-6cab-4826-ba32-4ac2e4cd2728",
   "metadata": {},
   "outputs": [],
   "source": [
    "def build_model(states, actions):\n",
    "    model = Sequential()    \n",
    "    model.add(Dense(24, activation='relu', input_shape=(1,9)))\n",
    "    model.add(Dropout(.5))\n",
    "    model.add(Dense(24, activation='relu'))\n",
    "    model.add(Dropout(.5))\n",
    "    model.add(Flatten())\n",
    "    model.add(Dense(actions, activation='linear'))\n",
    "    \n",
    "    return model\n"
   ]
  },
  {
   "cell_type": "code",
   "execution_count": 11,
   "id": "0ab8db88-810a-4b0a-8992-a4dd76fe51a3",
   "metadata": {},
   "outputs": [],
   "source": [
    "try:\n",
    "    del model\n",
    "except:\n",
    "    pass"
   ]
  },
  {
   "cell_type": "code",
   "execution_count": 12,
   "id": "caff7720-5547-4dbb-83a3-307d7e19034b",
   "metadata": {},
   "outputs": [],
   "source": [
    "model = build_model(states, actions)\n"
   ]
  },
  {
   "cell_type": "code",
   "execution_count": 13,
   "id": "bbf20a62-16fc-4df0-9be5-246f58e51d28",
   "metadata": {},
   "outputs": [
    {
     "name": "stdout",
     "output_type": "stream",
     "text": [
      "Model: \"sequential\"\n",
      "_________________________________________________________________\n",
      " Layer (type)                Output Shape              Param #   \n",
      "=================================================================\n",
      " dense (Dense)               (None, 1, 24)             240       \n",
      "                                                                 \n",
      " dropout (Dropout)           (None, 1, 24)             0         \n",
      "                                                                 \n",
      " dense_1 (Dense)             (None, 1, 24)             600       \n",
      "                                                                 \n",
      " dropout_1 (Dropout)         (None, 1, 24)             0         \n",
      "                                                                 \n",
      " flatten (Flatten)           (None, 24)                0         \n",
      "                                                                 \n",
      " dense_2 (Dense)             (None, 4)                 100       \n",
      "                                                                 \n",
      "=================================================================\n",
      "Total params: 940\n",
      "Trainable params: 940\n",
      "Non-trainable params: 0\n",
      "_________________________________________________________________\n"
     ]
    }
   ],
   "source": [
    "model.summary()\n"
   ]
  },
  {
   "cell_type": "code",
   "execution_count": 14,
   "id": "52161794-4d09-4da9-8041-78c1ea4e6e62",
   "metadata": {},
   "outputs": [],
   "source": [
    "def build_agent(model, actions):\n",
    "    policy = BoltzmannQPolicy()\n",
    "    memory = SequentialMemory(limit=50000, window_length=1)\n",
    "    dqn = DQNAgent(model=model, memory=memory, policy=policy, \n",
    "                  nb_actions=actions, nb_steps_warmup=10, target_model_update=1e-2)\n",
    "    return dqn"
   ]
  },
  {
   "cell_type": "code",
   "execution_count": 15,
   "id": "dd7748e5-3365-4696-a63a-3c6876e946b7",
   "metadata": {},
   "outputs": [
    {
     "name": "stderr",
     "output_type": "stream",
     "text": [
      "/Users/ciannudi-muldoon/opt/anaconda3/lib/python3.9/site-packages/keras/optimizers/optimizer_v2/adam.py:114: UserWarning: The `lr` argument is deprecated, use `learning_rate` instead.\n",
      "  super().__init__(name, **kwargs)\n",
      "2022-11-13 19:50:48.531746: I tensorflow/core/platform/cpu_feature_guard.cc:193] This TensorFlow binary is optimized with oneAPI Deep Neural Network Library (oneDNN) to use the following CPU instructions in performance-critical operations:  AVX2 FMA\n",
      "To enable them in other operations, rebuild TensorFlow with the appropriate compiler flags.\n",
      "2022-11-13 19:50:48.541831: I tensorflow/compiler/mlir/mlir_graph_optimization_pass.cc:354] MLIR V1 optimization pass is not enabled\n"
     ]
    },
    {
     "name": "stdout",
     "output_type": "stream",
     "text": [
      "Training for 50000 steps ...\n",
      "Interval 1 (0 steps performed)\n",
      "    1/10000 [..............................] - ETA: 22:31 - reward: 0.0000e+00"
     ]
    },
    {
     "name": "stderr",
     "output_type": "stream",
     "text": [
      "/Users/ciannudi-muldoon/opt/anaconda3/lib/python3.9/site-packages/keras/engine/training_v1.py:2356: UserWarning: `Model.state_updates` will be removed in a future version. This property should not be used in TensorFlow 2.0, as `updates` are applied automatically.\n",
      "  updates=self.state_updates,\n",
      "/Users/ciannudi-muldoon/opt/anaconda3/lib/python3.9/site-packages/rl/memory.py:37: UserWarning: Not enough entries to sample without replacement. Consider increasing your warm-up phase to avoid oversampling!\n",
      "  warnings.warn('Not enough entries to sample without replacement. Consider increasing your warm-up phase to avoid oversampling!')\n",
      "/Users/ciannudi-muldoon/opt/anaconda3/lib/python3.9/site-packages/keras/engine/training_v1.py:2356: UserWarning: `Model.state_updates` will be removed in a future version. This property should not be used in TensorFlow 2.0, as `updates` are applied automatically.\n",
      "  updates=self.state_updates,\n"
     ]
    },
    {
     "name": "stdout",
     "output_type": "stream",
     "text": [
      "   41/10000 [..............................] - ETA: 4:07 - reward: 2.8049"
     ]
    },
    {
     "name": "stderr",
     "output_type": "stream",
     "text": [
      "/Users/ciannudi-muldoon/opt/anaconda3/lib/python3.9/site-packages/rl/memory.py:37: UserWarning: Not enough entries to sample without replacement. Consider increasing your warm-up phase to avoid oversampling!\n",
      "  warnings.warn('Not enough entries to sample without replacement. Consider increasing your warm-up phase to avoid oversampling!')\n",
      "/Users/ciannudi-muldoon/opt/anaconda3/lib/python3.9/site-packages/rl/memory.py:37: UserWarning: Not enough entries to sample without replacement. Consider increasing your warm-up phase to avoid oversampling!\n",
      "  warnings.warn('Not enough entries to sample without replacement. Consider increasing your warm-up phase to avoid oversampling!')\n",
      "/Users/ciannudi-muldoon/opt/anaconda3/lib/python3.9/site-packages/rl/memory.py:37: UserWarning: Not enough entries to sample without replacement. Consider increasing your warm-up phase to avoid oversampling!\n",
      "  warnings.warn('Not enough entries to sample without replacement. Consider increasing your warm-up phase to avoid oversampling!')\n"
     ]
    },
    {
     "name": "stdout",
     "output_type": "stream",
     "text": [
      "10000/10000 [==============================] - 80s 8ms/step - reward: 4.6677\n",
      "2575 episodes - episode_reward: 18.116 [-16.000, 169.000] - loss: 130.490 - mae: 8.526 - mean_q: 10.506\n",
      "\n",
      "Interval 2 (10000 steps performed)\n",
      "10000/10000 [==============================] - 85s 8ms/step - reward: 4.9344\n",
      "2508 episodes - episode_reward: 19.679 [-21.000, 169.000] - loss: 70.378 - mae: 11.903 - mean_q: 13.440\n",
      "\n",
      "Interval 3 (20000 steps performed)\n",
      "10000/10000 [==============================] - 77s 8ms/step - reward: 4.5575\n",
      "2554 episodes - episode_reward: 17.830 [-27.000, 169.000] - loss: 74.120 - mae: 12.946 - mean_q: 14.662\n",
      "\n",
      "Interval 4 (30000 steps performed)\n",
      "10000/10000 [==============================] - 79s 8ms/step - reward: 4.6635\n",
      "2594 episodes - episode_reward: 17.998 [-27.000, 165.000] - loss: 72.480 - mae: 12.803 - mean_q: 14.467\n",
      "\n",
      "Interval 5 (40000 steps performed)\n",
      "10000/10000 [==============================] - 82s 8ms/step - reward: 4.6699\n",
      "done, took 403.670 seconds\n"
     ]
    },
    {
     "data": {
      "text/plain": [
       "<keras.callbacks.History at 0x199d49bb0>"
      ]
     },
     "execution_count": 15,
     "metadata": {},
     "output_type": "execute_result"
    }
   ],
   "source": [
    "dqn = build_agent(model, actions)\n",
    "dqn.compile(Adam(lr=1e-3), metrics=['mae'])\n",
    "dqn.fit(env, nb_steps=50000, visualize=False, verbose=1)"
   ]
  }
 ],
 "metadata": {
  "kernelspec": {
   "display_name": "Python 3 (ipykernel)",
   "language": "python",
   "name": "python3"
  },
  "language_info": {
   "codemirror_mode": {
    "name": "ipython",
    "version": 3
   },
   "file_extension": ".py",
   "mimetype": "text/x-python",
   "name": "python",
   "nbconvert_exporter": "python",
   "pygments_lexer": "ipython3",
   "version": "3.9.13"
  }
 },
 "nbformat": 4,
 "nbformat_minor": 5
}
